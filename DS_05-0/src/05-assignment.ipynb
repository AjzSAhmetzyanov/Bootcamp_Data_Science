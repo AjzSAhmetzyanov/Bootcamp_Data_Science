{
 "cells": [
  {
   "cell_type": "markdown",
   "metadata": {},
   "source": [
    "# Задание"
   ]
  },
  {
   "cell_type": "markdown",
   "metadata": {},
   "source": [
    "Данные по клиентам заархивированы в формате zip - сразу их разархивируем. Для этого нам понадобится библиотека zipfile."
   ]
  },
  {
   "cell_type": "code",
   "execution_count": 59,
   "metadata": {},
   "outputs": [],
   "source": [
    "import zipfile\n",
    "from sklearn.preprocessing import StandardScaler\n",
    "from sklearn.preprocessing import OneHotEncoder\n",
    "from sklearn.model_selection import train_test_split\n",
    "from sklearn.linear_model import LogisticRegression\n",
    "import matplotlib.pyplot as plt\n",
    "import pandas as pd\n",
    "import numpy as np"
   ]
  },
  {
   "cell_type": "code",
   "execution_count": 40,
   "metadata": {},
   "outputs": [
    {
     "ename": "FileNotFoundError",
     "evalue": "[Errno 2] No such file or directory: '../datasets/client_info.csv.zip'",
     "output_type": "error",
     "traceback": [
      "\u001b[0;31m---------------------------------------------------------------------------\u001b[0m",
      "\u001b[0;31mFileNotFoundError\u001b[0m                         Traceback (most recent call last)",
      "\u001b[0;32m/var/folders/9w/qg5vy1g15f9_0k_7lw9hs2mw0000gn/T/ipykernel_26258/2532840926.py\u001b[0m in \u001b[0;36m<module>\u001b[0;34m\u001b[0m\n\u001b[0;32m----> 1\u001b[0;31m \u001b[0;32mwith\u001b[0m \u001b[0mzipfile\u001b[0m\u001b[0;34m.\u001b[0m\u001b[0mZipFile\u001b[0m\u001b[0;34m(\u001b[0m\u001b[0;34m'../datasets/client_info.csv.zip'\u001b[0m\u001b[0;34m,\u001b[0m \u001b[0;34m'r'\u001b[0m\u001b[0;34m)\u001b[0m \u001b[0;32mas\u001b[0m \u001b[0mzip_ref\u001b[0m\u001b[0;34m:\u001b[0m\u001b[0;34m\u001b[0m\u001b[0;34m\u001b[0m\u001b[0m\n\u001b[0m\u001b[1;32m      2\u001b[0m     \u001b[0mzip_ref\u001b[0m\u001b[0;34m.\u001b[0m\u001b[0mextractall\u001b[0m\u001b[0;34m(\u001b[0m\u001b[0;34m'../datasets'\u001b[0m\u001b[0;34m)\u001b[0m\u001b[0;34m\u001b[0m\u001b[0;34m\u001b[0m\u001b[0m\n",
      "\u001b[0;32m~/opt/anaconda3/lib/python3.9/zipfile.py\u001b[0m in \u001b[0;36m__init__\u001b[0;34m(self, file, mode, compression, allowZip64, compresslevel, strict_timestamps)\u001b[0m\n\u001b[1;32m   1246\u001b[0m             \u001b[0;32mwhile\u001b[0m \u001b[0;32mTrue\u001b[0m\u001b[0;34m:\u001b[0m\u001b[0;34m\u001b[0m\u001b[0;34m\u001b[0m\u001b[0m\n\u001b[1;32m   1247\u001b[0m                 \u001b[0;32mtry\u001b[0m\u001b[0;34m:\u001b[0m\u001b[0;34m\u001b[0m\u001b[0;34m\u001b[0m\u001b[0m\n\u001b[0;32m-> 1248\u001b[0;31m                     \u001b[0mself\u001b[0m\u001b[0;34m.\u001b[0m\u001b[0mfp\u001b[0m \u001b[0;34m=\u001b[0m \u001b[0mio\u001b[0m\u001b[0;34m.\u001b[0m\u001b[0mopen\u001b[0m\u001b[0;34m(\u001b[0m\u001b[0mfile\u001b[0m\u001b[0;34m,\u001b[0m \u001b[0mfilemode\u001b[0m\u001b[0;34m)\u001b[0m\u001b[0;34m\u001b[0m\u001b[0;34m\u001b[0m\u001b[0m\n\u001b[0m\u001b[1;32m   1249\u001b[0m                 \u001b[0;32mexcept\u001b[0m \u001b[0mOSError\u001b[0m\u001b[0;34m:\u001b[0m\u001b[0;34m\u001b[0m\u001b[0;34m\u001b[0m\u001b[0m\n\u001b[1;32m   1250\u001b[0m                     \u001b[0;32mif\u001b[0m \u001b[0mfilemode\u001b[0m \u001b[0;32min\u001b[0m \u001b[0mmodeDict\u001b[0m\u001b[0;34m:\u001b[0m\u001b[0;34m\u001b[0m\u001b[0;34m\u001b[0m\u001b[0m\n",
      "\u001b[0;31mFileNotFoundError\u001b[0m: [Errno 2] No such file or directory: '../datasets/client_info.csv.zip'"
     ]
    }
   ],
   "source": [
    "with zipfile.ZipFile('../datasets/client_info.csv.zip', 'r') as zip_ref:\n",
    "    zip_ref.extractall('../datasets')"
   ]
  },
  {
   "cell_type": "code",
   "execution_count": 41,
   "metadata": {
    "id": "dxhM1MLjPc31"
   },
   "outputs": [],
   "source": [
    "df = pd.read_csv('../datasets/client_info.csv')"
   ]
  },
  {
   "cell_type": "code",
   "execution_count": 42,
   "metadata": {},
   "outputs": [
    {
     "data": {
      "text/html": [
       "<div>\n",
       "<style scoped>\n",
       "    .dataframe tbody tr th:only-of-type {\n",
       "        vertical-align: middle;\n",
       "    }\n",
       "\n",
       "    .dataframe tbody tr th {\n",
       "        vertical-align: top;\n",
       "    }\n",
       "\n",
       "    .dataframe thead th {\n",
       "        text-align: right;\n",
       "    }\n",
       "</style>\n",
       "<table border=\"1\" class=\"dataframe\">\n",
       "  <thead>\n",
       "    <tr style=\"text-align: right;\">\n",
       "      <th></th>\n",
       "      <th>ID</th>\n",
       "      <th>CR_PROD_CNT_IL</th>\n",
       "      <th>AMOUNT_RUB_CLO_PRC</th>\n",
       "      <th>APP_REGISTR_RGN_CODE</th>\n",
       "      <th>TURNOVER_DYNAMIC_IL_1M</th>\n",
       "      <th>LDEAL_YQZ_COM_GROUP</th>\n",
       "      <th>LDEAL_YQZ_CHRG_GROUP</th>\n",
       "      <th>AVG_PCT_MONTH_TO_PCLOSE_GROUP</th>\n",
       "      <th>MAX_PCLOSE_DATE_GROUP</th>\n",
       "      <th>AVG_PCT_DEBT_TO_DEAL_AMT_GROUP</th>\n",
       "      <th>...</th>\n",
       "      <th>CLNT_SETUP_TENOR</th>\n",
       "      <th>TURNOVER_DYNAMIC_PAYM_3M</th>\n",
       "      <th>TURNOVER_DYNAMIC_PAYM_1M</th>\n",
       "      <th>TRANS_AMOUNT_TENDENCY3M</th>\n",
       "      <th>TRANS_CNT_TENDENCY3M</th>\n",
       "      <th>REST_DYNAMIC_CC_1M</th>\n",
       "      <th>TURNOVER_DYNAMIC_CC_1M</th>\n",
       "      <th>REST_DYNAMIC_CC_3M</th>\n",
       "      <th>TURNOVER_DYNAMIC_CC_3M</th>\n",
       "      <th>TARGET</th>\n",
       "    </tr>\n",
       "  </thead>\n",
       "  <tbody>\n",
       "    <tr>\n",
       "      <th>0</th>\n",
       "      <td>146841</td>\n",
       "      <td>0</td>\n",
       "      <td>0.000000</td>\n",
       "      <td>неизвестна</td>\n",
       "      <td>0.0</td>\n",
       "      <td>неизвестна</td>\n",
       "      <td>неизвестна</td>\n",
       "      <td>неизвестна</td>\n",
       "      <td>неизвестна</td>\n",
       "      <td>неизвестна</td>\n",
       "      <td>...</td>\n",
       "      <td>1.593023</td>\n",
       "      <td>0.0</td>\n",
       "      <td>0.0</td>\n",
       "      <td>0.483032</td>\n",
       "      <td>0.406780</td>\n",
       "      <td>0.0</td>\n",
       "      <td>0.0</td>\n",
       "      <td>0.0</td>\n",
       "      <td>0.0</td>\n",
       "      <td>0</td>\n",
       "    </tr>\n",
       "    <tr>\n",
       "      <th>1</th>\n",
       "      <td>146842</td>\n",
       "      <td>0</td>\n",
       "      <td>0.041033</td>\n",
       "      <td>неизвестна</td>\n",
       "      <td>0.0</td>\n",
       "      <td>неизвестна</td>\n",
       "      <td>неизвестна</td>\n",
       "      <td>неизвестна</td>\n",
       "      <td>неизвестна</td>\n",
       "      <td>неизвестна</td>\n",
       "      <td>...</td>\n",
       "      <td>1.587647</td>\n",
       "      <td>0.0</td>\n",
       "      <td>0.0</td>\n",
       "      <td>0.394340</td>\n",
       "      <td>0.545455</td>\n",
       "      <td>0.0</td>\n",
       "      <td>0.0</td>\n",
       "      <td>0.0</td>\n",
       "      <td>0.0</td>\n",
       "      <td>0</td>\n",
       "    </tr>\n",
       "    <tr>\n",
       "      <th>2</th>\n",
       "      <td>146843</td>\n",
       "      <td>0</td>\n",
       "      <td>0.006915</td>\n",
       "      <td>неизвестна</td>\n",
       "      <td>0.0</td>\n",
       "      <td>неизвестна</td>\n",
       "      <td>неизвестна</td>\n",
       "      <td>неизвестна</td>\n",
       "      <td>неизвестна</td>\n",
       "      <td>неизвестна</td>\n",
       "      <td>...</td>\n",
       "      <td>1.587647</td>\n",
       "      <td>0.0</td>\n",
       "      <td>0.0</td>\n",
       "      <td>0.399342</td>\n",
       "      <td>0.297297</td>\n",
       "      <td>0.0</td>\n",
       "      <td>0.0</td>\n",
       "      <td>0.0</td>\n",
       "      <td>0.0</td>\n",
       "      <td>0</td>\n",
       "    </tr>\n",
       "    <tr>\n",
       "      <th>3</th>\n",
       "      <td>146844</td>\n",
       "      <td>0</td>\n",
       "      <td>0.000000</td>\n",
       "      <td>неизвестна</td>\n",
       "      <td>0.0</td>\n",
       "      <td>неизвестна</td>\n",
       "      <td>неизвестна</td>\n",
       "      <td>неизвестна</td>\n",
       "      <td>неизвестна</td>\n",
       "      <td>неизвестна</td>\n",
       "      <td>...</td>\n",
       "      <td>1.583333</td>\n",
       "      <td>0.0</td>\n",
       "      <td>0.0</td>\n",
       "      <td>0.552169</td>\n",
       "      <td>0.558824</td>\n",
       "      <td>0.0</td>\n",
       "      <td>0.0</td>\n",
       "      <td>0.0</td>\n",
       "      <td>0.0</td>\n",
       "      <td>0</td>\n",
       "    </tr>\n",
       "    <tr>\n",
       "      <th>4</th>\n",
       "      <td>146845</td>\n",
       "      <td>0</td>\n",
       "      <td>0.000000</td>\n",
       "      <td>неизвестна</td>\n",
       "      <td>0.0</td>\n",
       "      <td>неизвестна</td>\n",
       "      <td>неизвестна</td>\n",
       "      <td>неизвестна</td>\n",
       "      <td>неизвестна</td>\n",
       "      <td>неизвестна</td>\n",
       "      <td>...</td>\n",
       "      <td>1.583333</td>\n",
       "      <td>0.0</td>\n",
       "      <td>0.0</td>\n",
       "      <td>0.611610</td>\n",
       "      <td>0.620690</td>\n",
       "      <td>0.0</td>\n",
       "      <td>0.0</td>\n",
       "      <td>0.0</td>\n",
       "      <td>0.0</td>\n",
       "      <td>0</td>\n",
       "    </tr>\n",
       "  </tbody>\n",
       "</table>\n",
       "<p>5 rows × 105 columns</p>\n",
       "</div>"
      ],
      "text/plain": [
       "       ID  CR_PROD_CNT_IL  AMOUNT_RUB_CLO_PRC APP_REGISTR_RGN_CODE  \\\n",
       "0  146841               0            0.000000           неизвестна   \n",
       "1  146842               0            0.041033           неизвестна   \n",
       "2  146843               0            0.006915           неизвестна   \n",
       "3  146844               0            0.000000           неизвестна   \n",
       "4  146845               0            0.000000           неизвестна   \n",
       "\n",
       "   TURNOVER_DYNAMIC_IL_1M LDEAL_YQZ_COM_GROUP LDEAL_YQZ_CHRG_GROUP  \\\n",
       "0                     0.0          неизвестна           неизвестна   \n",
       "1                     0.0          неизвестна           неизвестна   \n",
       "2                     0.0          неизвестна           неизвестна   \n",
       "3                     0.0          неизвестна           неизвестна   \n",
       "4                     0.0          неизвестна           неизвестна   \n",
       "\n",
       "  AVG_PCT_MONTH_TO_PCLOSE_GROUP MAX_PCLOSE_DATE_GROUP  \\\n",
       "0                    неизвестна            неизвестна   \n",
       "1                    неизвестна            неизвестна   \n",
       "2                    неизвестна            неизвестна   \n",
       "3                    неизвестна            неизвестна   \n",
       "4                    неизвестна            неизвестна   \n",
       "\n",
       "  AVG_PCT_DEBT_TO_DEAL_AMT_GROUP  ... CLNT_SETUP_TENOR  \\\n",
       "0                     неизвестна  ...         1.593023   \n",
       "1                     неизвестна  ...         1.587647   \n",
       "2                     неизвестна  ...         1.587647   \n",
       "3                     неизвестна  ...         1.583333   \n",
       "4                     неизвестна  ...         1.583333   \n",
       "\n",
       "  TURNOVER_DYNAMIC_PAYM_3M TURNOVER_DYNAMIC_PAYM_1M TRANS_AMOUNT_TENDENCY3M  \\\n",
       "0                      0.0                      0.0                0.483032   \n",
       "1                      0.0                      0.0                0.394340   \n",
       "2                      0.0                      0.0                0.399342   \n",
       "3                      0.0                      0.0                0.552169   \n",
       "4                      0.0                      0.0                0.611610   \n",
       "\n",
       "  TRANS_CNT_TENDENCY3M REST_DYNAMIC_CC_1M TURNOVER_DYNAMIC_CC_1M  \\\n",
       "0             0.406780                0.0                    0.0   \n",
       "1             0.545455                0.0                    0.0   \n",
       "2             0.297297                0.0                    0.0   \n",
       "3             0.558824                0.0                    0.0   \n",
       "4             0.620690                0.0                    0.0   \n",
       "\n",
       "  REST_DYNAMIC_CC_3M TURNOVER_DYNAMIC_CC_3M TARGET  \n",
       "0                0.0                    0.0      0  \n",
       "1                0.0                    0.0      0  \n",
       "2                0.0                    0.0      0  \n",
       "3                0.0                    0.0      0  \n",
       "4                0.0                    0.0      0  \n",
       "\n",
       "[5 rows x 105 columns]"
      ]
     },
     "execution_count": 42,
     "metadata": {},
     "output_type": "execute_result"
    }
   ],
   "source": [
    "df.head(5)"
   ]
  },
  {
   "cell_type": "markdown",
   "metadata": {},
   "source": [
    "## Задание 1\n",
    "Назначь колонку `ID` индексом таблицы."
   ]
  },
  {
   "cell_type": "code",
   "execution_count": 43,
   "metadata": {},
   "outputs": [
    {
     "data": {
      "text/html": [
       "<div>\n",
       "<style scoped>\n",
       "    .dataframe tbody tr th:only-of-type {\n",
       "        vertical-align: middle;\n",
       "    }\n",
       "\n",
       "    .dataframe tbody tr th {\n",
       "        vertical-align: top;\n",
       "    }\n",
       "\n",
       "    .dataframe thead th {\n",
       "        text-align: right;\n",
       "    }\n",
       "</style>\n",
       "<table border=\"1\" class=\"dataframe\">\n",
       "  <thead>\n",
       "    <tr style=\"text-align: right;\">\n",
       "      <th></th>\n",
       "      <th>CR_PROD_CNT_IL</th>\n",
       "      <th>AMOUNT_RUB_CLO_PRC</th>\n",
       "      <th>APP_REGISTR_RGN_CODE</th>\n",
       "      <th>TURNOVER_DYNAMIC_IL_1M</th>\n",
       "      <th>LDEAL_YQZ_COM_GROUP</th>\n",
       "      <th>LDEAL_YQZ_CHRG_GROUP</th>\n",
       "      <th>AVG_PCT_MONTH_TO_PCLOSE_GROUP</th>\n",
       "      <th>MAX_PCLOSE_DATE_GROUP</th>\n",
       "      <th>AVG_PCT_DEBT_TO_DEAL_AMT_GROUP</th>\n",
       "      <th>LDEAL_AMT_MONTH_GROUP</th>\n",
       "      <th>...</th>\n",
       "      <th>CLNT_SETUP_TENOR</th>\n",
       "      <th>TURNOVER_DYNAMIC_PAYM_3M</th>\n",
       "      <th>TURNOVER_DYNAMIC_PAYM_1M</th>\n",
       "      <th>TRANS_AMOUNT_TENDENCY3M</th>\n",
       "      <th>TRANS_CNT_TENDENCY3M</th>\n",
       "      <th>REST_DYNAMIC_CC_1M</th>\n",
       "      <th>TURNOVER_DYNAMIC_CC_1M</th>\n",
       "      <th>REST_DYNAMIC_CC_3M</th>\n",
       "      <th>TURNOVER_DYNAMIC_CC_3M</th>\n",
       "      <th>TARGET</th>\n",
       "    </tr>\n",
       "    <tr>\n",
       "      <th>ID</th>\n",
       "      <th></th>\n",
       "      <th></th>\n",
       "      <th></th>\n",
       "      <th></th>\n",
       "      <th></th>\n",
       "      <th></th>\n",
       "      <th></th>\n",
       "      <th></th>\n",
       "      <th></th>\n",
       "      <th></th>\n",
       "      <th></th>\n",
       "      <th></th>\n",
       "      <th></th>\n",
       "      <th></th>\n",
       "      <th></th>\n",
       "      <th></th>\n",
       "      <th></th>\n",
       "      <th></th>\n",
       "      <th></th>\n",
       "      <th></th>\n",
       "      <th></th>\n",
       "    </tr>\n",
       "  </thead>\n",
       "  <tbody>\n",
       "    <tr>\n",
       "      <th>146841</th>\n",
       "      <td>0</td>\n",
       "      <td>0.000000</td>\n",
       "      <td>неизвестна</td>\n",
       "      <td>0.0</td>\n",
       "      <td>неизвестна</td>\n",
       "      <td>неизвестна</td>\n",
       "      <td>неизвестна</td>\n",
       "      <td>неизвестна</td>\n",
       "      <td>неизвестна</td>\n",
       "      <td>неизвестна</td>\n",
       "      <td>...</td>\n",
       "      <td>1.593023</td>\n",
       "      <td>0.0</td>\n",
       "      <td>0.0</td>\n",
       "      <td>0.483032</td>\n",
       "      <td>0.406780</td>\n",
       "      <td>0.0</td>\n",
       "      <td>0.0</td>\n",
       "      <td>0.0</td>\n",
       "      <td>0.0</td>\n",
       "      <td>0</td>\n",
       "    </tr>\n",
       "    <tr>\n",
       "      <th>146842</th>\n",
       "      <td>0</td>\n",
       "      <td>0.041033</td>\n",
       "      <td>неизвестна</td>\n",
       "      <td>0.0</td>\n",
       "      <td>неизвестна</td>\n",
       "      <td>неизвестна</td>\n",
       "      <td>неизвестна</td>\n",
       "      <td>неизвестна</td>\n",
       "      <td>неизвестна</td>\n",
       "      <td>неизвестна</td>\n",
       "      <td>...</td>\n",
       "      <td>1.587647</td>\n",
       "      <td>0.0</td>\n",
       "      <td>0.0</td>\n",
       "      <td>0.394340</td>\n",
       "      <td>0.545455</td>\n",
       "      <td>0.0</td>\n",
       "      <td>0.0</td>\n",
       "      <td>0.0</td>\n",
       "      <td>0.0</td>\n",
       "      <td>0</td>\n",
       "    </tr>\n",
       "    <tr>\n",
       "      <th>146843</th>\n",
       "      <td>0</td>\n",
       "      <td>0.006915</td>\n",
       "      <td>неизвестна</td>\n",
       "      <td>0.0</td>\n",
       "      <td>неизвестна</td>\n",
       "      <td>неизвестна</td>\n",
       "      <td>неизвестна</td>\n",
       "      <td>неизвестна</td>\n",
       "      <td>неизвестна</td>\n",
       "      <td>неизвестна</td>\n",
       "      <td>...</td>\n",
       "      <td>1.587647</td>\n",
       "      <td>0.0</td>\n",
       "      <td>0.0</td>\n",
       "      <td>0.399342</td>\n",
       "      <td>0.297297</td>\n",
       "      <td>0.0</td>\n",
       "      <td>0.0</td>\n",
       "      <td>0.0</td>\n",
       "      <td>0.0</td>\n",
       "      <td>0</td>\n",
       "    </tr>\n",
       "    <tr>\n",
       "      <th>146844</th>\n",
       "      <td>0</td>\n",
       "      <td>0.000000</td>\n",
       "      <td>неизвестна</td>\n",
       "      <td>0.0</td>\n",
       "      <td>неизвестна</td>\n",
       "      <td>неизвестна</td>\n",
       "      <td>неизвестна</td>\n",
       "      <td>неизвестна</td>\n",
       "      <td>неизвестна</td>\n",
       "      <td>неизвестна</td>\n",
       "      <td>...</td>\n",
       "      <td>1.583333</td>\n",
       "      <td>0.0</td>\n",
       "      <td>0.0</td>\n",
       "      <td>0.552169</td>\n",
       "      <td>0.558824</td>\n",
       "      <td>0.0</td>\n",
       "      <td>0.0</td>\n",
       "      <td>0.0</td>\n",
       "      <td>0.0</td>\n",
       "      <td>0</td>\n",
       "    </tr>\n",
       "    <tr>\n",
       "      <th>146845</th>\n",
       "      <td>0</td>\n",
       "      <td>0.000000</td>\n",
       "      <td>неизвестна</td>\n",
       "      <td>0.0</td>\n",
       "      <td>неизвестна</td>\n",
       "      <td>неизвестна</td>\n",
       "      <td>неизвестна</td>\n",
       "      <td>неизвестна</td>\n",
       "      <td>неизвестна</td>\n",
       "      <td>неизвестна</td>\n",
       "      <td>...</td>\n",
       "      <td>1.583333</td>\n",
       "      <td>0.0</td>\n",
       "      <td>0.0</td>\n",
       "      <td>0.611610</td>\n",
       "      <td>0.620690</td>\n",
       "      <td>0.0</td>\n",
       "      <td>0.0</td>\n",
       "      <td>0.0</td>\n",
       "      <td>0.0</td>\n",
       "      <td>0</td>\n",
       "    </tr>\n",
       "  </tbody>\n",
       "</table>\n",
       "<p>5 rows × 104 columns</p>\n",
       "</div>"
      ],
      "text/plain": [
       "        CR_PROD_CNT_IL  AMOUNT_RUB_CLO_PRC APP_REGISTR_RGN_CODE  \\\n",
       "ID                                                                \n",
       "146841               0            0.000000           неизвестна   \n",
       "146842               0            0.041033           неизвестна   \n",
       "146843               0            0.006915           неизвестна   \n",
       "146844               0            0.000000           неизвестна   \n",
       "146845               0            0.000000           неизвестна   \n",
       "\n",
       "        TURNOVER_DYNAMIC_IL_1M LDEAL_YQZ_COM_GROUP LDEAL_YQZ_CHRG_GROUP  \\\n",
       "ID                                                                        \n",
       "146841                     0.0          неизвестна           неизвестна   \n",
       "146842                     0.0          неизвестна           неизвестна   \n",
       "146843                     0.0          неизвестна           неизвестна   \n",
       "146844                     0.0          неизвестна           неизвестна   \n",
       "146845                     0.0          неизвестна           неизвестна   \n",
       "\n",
       "       AVG_PCT_MONTH_TO_PCLOSE_GROUP MAX_PCLOSE_DATE_GROUP  \\\n",
       "ID                                                           \n",
       "146841                    неизвестна            неизвестна   \n",
       "146842                    неизвестна            неизвестна   \n",
       "146843                    неизвестна            неизвестна   \n",
       "146844                    неизвестна            неизвестна   \n",
       "146845                    неизвестна            неизвестна   \n",
       "\n",
       "       AVG_PCT_DEBT_TO_DEAL_AMT_GROUP LDEAL_AMT_MONTH_GROUP  ...  \\\n",
       "ID                                                           ...   \n",
       "146841                     неизвестна            неизвестна  ...   \n",
       "146842                     неизвестна            неизвестна  ...   \n",
       "146843                     неизвестна            неизвестна  ...   \n",
       "146844                     неизвестна            неизвестна  ...   \n",
       "146845                     неизвестна            неизвестна  ...   \n",
       "\n",
       "       CLNT_SETUP_TENOR TURNOVER_DYNAMIC_PAYM_3M TURNOVER_DYNAMIC_PAYM_1M  \\\n",
       "ID                                                                          \n",
       "146841         1.593023                      0.0                      0.0   \n",
       "146842         1.587647                      0.0                      0.0   \n",
       "146843         1.587647                      0.0                      0.0   \n",
       "146844         1.583333                      0.0                      0.0   \n",
       "146845         1.583333                      0.0                      0.0   \n",
       "\n",
       "       TRANS_AMOUNT_TENDENCY3M TRANS_CNT_TENDENCY3M REST_DYNAMIC_CC_1M  \\\n",
       "ID                                                                       \n",
       "146841                0.483032             0.406780                0.0   \n",
       "146842                0.394340             0.545455                0.0   \n",
       "146843                0.399342             0.297297                0.0   \n",
       "146844                0.552169             0.558824                0.0   \n",
       "146845                0.611610             0.620690                0.0   \n",
       "\n",
       "       TURNOVER_DYNAMIC_CC_1M REST_DYNAMIC_CC_3M TURNOVER_DYNAMIC_CC_3M TARGET  \n",
       "ID                                                                              \n",
       "146841                    0.0                0.0                    0.0      0  \n",
       "146842                    0.0                0.0                    0.0      0  \n",
       "146843                    0.0                0.0                    0.0      0  \n",
       "146844                    0.0                0.0                    0.0      0  \n",
       "146845                    0.0                0.0                    0.0      0  \n",
       "\n",
       "[5 rows x 104 columns]"
      ]
     },
     "execution_count": 43,
     "metadata": {},
     "output_type": "execute_result"
    }
   ],
   "source": [
    "df.set_index('ID', inplace=True)\n",
    "df.head(5)"
   ]
  },
  {
   "cell_type": "markdown",
   "metadata": {},
   "source": [
    "## Задание 2\n",
    "Определимся, что является нашим `X`, а что является нашим `Y`. \n",
    "Для этого изучи документ, описывающий [датасет](../datasets/datadata_description.docs).\n",
    "Признаки сохрани в переменную `X`. А целевую переменную, которую мы будем предсказывать, в переменную `Y`\n",
    "Выведи размерность этих таблиц"
   ]
  },
  {
   "cell_type": "code",
   "execution_count": 44,
   "metadata": {},
   "outputs": [
    {
     "data": {
      "text/plain": [
       "(355190, 103)"
      ]
     },
     "execution_count": 44,
     "metadata": {},
     "output_type": "execute_result"
    }
   ],
   "source": [
    "Y = df['TARGET']\n",
    "X = df.drop('TARGET', axis=1)\n",
    "Y.shape\n",
    "X.shape"
   ]
  },
  {
   "cell_type": "markdown",
   "metadata": {},
   "source": [
    "## Задание 3\n",
    "Изначальный датасет содержит в себе как количественные, так и категориальные переменные. Раздели датасет. \n",
    "В этом поможет тип данных колонки. Категориальные переменные сохрани в переменную `X_cat`, а количественные в `X_num`. \n",
    "Выведи число категориальных и количественные переменных."
   ]
  },
  {
   "cell_type": "code",
   "execution_count": 45,
   "metadata": {},
   "outputs": [
    {
     "data": {
      "text/plain": [
       "47"
      ]
     },
     "execution_count": 45,
     "metadata": {},
     "output_type": "execute_result"
    }
   ],
   "source": [
    "X_cat = X.select_dtypes('object')\n",
    "X_num = X.select_dtypes(('int64', 'float64'))\n",
    "X_cat.shape[1]\n",
    "X_num.shape[1]"
   ]
  },
  {
   "cell_type": "markdown",
   "metadata": {},
   "source": [
    "## Задание 4\n",
    "Предобработаем количественные переменные. Проведи стандартизацию для признаков X_num.\n",
    "Сохрани результат стандартизации в переменную `X_num_scal`. \n",
    "Выведи среднее и стандартное отклонение по датасету для каждого признака после стандартизации. \n",
    "Значения округли для сотых."
   ]
  },
  {
   "cell_type": "code",
   "execution_count": 57,
   "metadata": {},
   "outputs": [
    {
     "data": {
      "text/plain": [
       "CR_PROD_CNT_IL             -0.0\n",
       "AMOUNT_RUB_CLO_PRC         -0.0\n",
       "TURNOVER_DYNAMIC_IL_1M      0.0\n",
       "AMOUNT_RUB_SUP_PRC          0.0\n",
       "REST_DYNAMIC_FDEP_1M        0.0\n",
       "REST_DYNAMIC_SAVE_3M        0.0\n",
       "CR_PROD_CNT_VCU            -0.0\n",
       "REST_AVG_CUR               -0.0\n",
       "AMOUNT_RUB_NAS_PRC          0.0\n",
       "TRANS_COUNT_SUP_PRC         0.0\n",
       "TRANS_COUNT_NAS_PRC         0.0\n",
       "CR_PROD_CNT_TOVR           -0.0\n",
       "CR_PROD_CNT_PIL            -0.0\n",
       "TURNOVER_CC                 0.0\n",
       "TRANS_COUNT_ATM_PRC         0.0\n",
       "AMOUNT_RUB_ATM_PRC         -0.0\n",
       "TURNOVER_PAYM              -0.0\n",
       "AGE                         0.0\n",
       "CR_PROD_CNT_CC             -0.0\n",
       "REST_DYNAMIC_FDEP_3M       -0.0\n",
       "REST_DYNAMIC_IL_1M         -0.0\n",
       "CR_PROD_CNT_CCFP           -0.0\n",
       "REST_DYNAMIC_CUR_1M         0.0\n",
       "REST_AVG_PAYM               0.0\n",
       "LDEAL_GRACE_DAYS_PCT_MED   -0.0\n",
       "REST_DYNAMIC_CUR_3M         0.0\n",
       "CNT_TRAN_SUP_TENDENCY3M    -0.0\n",
       "TURNOVER_DYNAMIC_CUR_1M     0.0\n",
       "REST_DYNAMIC_PAYM_3M        0.0\n",
       "SUM_TRAN_SUP_TENDENCY3M    -0.0\n",
       "REST_DYNAMIC_IL_3M          0.0\n",
       "CNT_TRAN_ATM_TENDENCY3M     0.0\n",
       "CNT_TRAN_ATM_TENDENCY1M    -0.0\n",
       "TURNOVER_DYNAMIC_IL_3M     -0.0\n",
       "SUM_TRAN_ATM_TENDENCY3M    -0.0\n",
       "SUM_TRAN_ATM_TENDENCY1M     0.0\n",
       "REST_DYNAMIC_PAYM_1M        0.0\n",
       "TURNOVER_DYNAMIC_CUR_3M    -0.0\n",
       "CLNT_SETUP_TENOR           -0.0\n",
       "TURNOVER_DYNAMIC_PAYM_3M    0.0\n",
       "TURNOVER_DYNAMIC_PAYM_1M    0.0\n",
       "TRANS_AMOUNT_TENDENCY3M     0.0\n",
       "TRANS_CNT_TENDENCY3M       -0.0\n",
       "REST_DYNAMIC_CC_1M          0.0\n",
       "TURNOVER_DYNAMIC_CC_1M      0.0\n",
       "REST_DYNAMIC_CC_3M         -0.0\n",
       "TURNOVER_DYNAMIC_CC_3M      0.0\n",
       "dtype: float64"
      ]
     },
     "execution_count": 57,
     "metadata": {},
     "output_type": "execute_result"
    }
   ],
   "source": [
    "X_num_scal = pd.DataFrame(StandardScaler().fit_transform(X_num), columns=X_num.columns.tolist())\n",
    "round(X_num_scal.std(axis=0), 2)\n",
    "round(X_num_scal.mean(axis=0), 2)"
   ]
  },
  {
   "cell_type": "markdown",
   "metadata": {},
   "source": [
    "## Задание 5\n",
    "Алгоритмы машинного обучения плохо работают с meanегориальными пstdнаками, поэтому их надо трансформировать. \n",
    "Прочитай про One-Hot Encoding подход к кодированию и примени его с нашим категориальным признаком, сохрани \n",
    "результат в переменную `X_cat_ohe`\n",
    "Перед этим удали признак `CLNT_JOB_POSITION` (у него слишком много значений).\n",
    "Выведи количество колонок таблицы `X_cat_ohe`"
   ]
  },
  {
   "cell_type": "code",
   "execution_count": 70,
   "metadata": {},
   "outputs": [
    {
     "data": {
      "text/plain": [
       "323"
      ]
     },
     "execution_count": 70,
     "metadata": {},
     "output_type": "execute_result"
    }
   ],
   "source": [
    "X_cat.drop([\"CLNT_JOB_POSITION\"], axis=1, inplace=True)\n",
    "X_cat_ohe = OneHotEncoder().fit_transform(X_cat).toarray()\n",
    "X_cat_ohe.shape[1]"
   ]
  },
  {
   "cell_type": "markdown",
   "metadata": {},
   "source": [
    "## Задание 6\n",
    "Объедини 2 предобработанных датасета. Результат запиши в переменную `X_ready`. Сохрани датасет в папку `datasets/data_prepared.csv`\n",
    "Подели получившийся датасет на `train` и `test`. Процент тестовой выборки: `20%`. Использовать параметр `random_state=21`.\n",
    "Выведи размерность обучающей выборки X_train.\n"
   ]
  },
  {
   "cell_type": "code",
   "execution_count": 72,
   "metadata": {},
   "outputs": [
    {
     "data": {
      "text/plain": [
       "(284152, 370)"
      ]
     },
     "execution_count": 72,
     "metadata": {},
     "output_type": "execute_result"
    }
   ],
   "source": [
    "X_ready = pd.concat((X_num_scal,X_cat_ohe), axis=1)\n",
    "X_ready.to_csv('../datasets/data_prepared.csv')\n",
    "X_train, X_test, Y_train, Y_test = train_test_split(X_ready, Y, random_state=21, train_size=0.80)\n",
    "X_train.shape"
   ]
  },
  {
   "cell_type": "markdown",
   "metadata": {},
   "source": [
    "## Задание 7 \n",
    "Обучи логистическую регрессию с параметрами: `solver='liblinear'`, `fit_intercept=False`, `penalty='l1'`, `random_state=21`. \n",
    "Посчитай `accuracy` модели на тестовой выборке, сравнив предсказанные значения с реальными.\n",
    "Выведи значение `accuracy` модели на тестовой выборке."
   ]
  },
  {
   "cell_type": "code",
   "execution_count": 74,
   "metadata": {},
   "outputs": [
    {
     "data": {
      "text/plain": [
       "0.9197612545398237"
      ]
     },
     "execution_count": 74,
     "metadata": {},
     "output_type": "execute_result"
    }
   ],
   "source": [
    "clf = LogisticRegression(solver='liblinear', fit_intercept=False, penalty='l1', random_state=21).fit(X_train, Y_train)\n",
    "accuracy = clf.score(X_test, Y_test)\n",
    "accuracy"
   ]
  },
  {
   "cell_type": "markdown",
   "metadata": {},
   "source": [
    "## Задание 8\n",
    "Посчитай процент клиентов в тестовой выборке, у которых индикатор оттока равен `0`, и сравнить с `accuracy`.\n",
    "Тебе что-то должно показаться подозрительным)"
   ]
  },
  {
   "cell_type": "code",
   "execution_count": 75,
   "metadata": {},
   "outputs": [
    {
     "data": {
      "text/plain": [
       "91.96064078380584"
      ]
     },
     "execution_count": 75,
     "metadata": {},
     "output_type": "execute_result"
    }
   ],
   "source": [
    "(Y_test.value_counts()[0] / Y_test.shape[0]) * 100"
   ]
  },
  {
   "cell_type": "markdown",
   "metadata": {},
   "source": [
    "## Задание 9\n",
    "Построй график, на котором видны топ-10 самых важных факторов по мнению модели в абсолютном значении."
   ]
  },
  {
   "cell_type": "code",
   "execution_count": 77,
   "metadata": {},
   "outputs": [
    {
     "data": {
      "image/png": "[encoded data removed]",
      "text/plain": [
       "<Figure size 1200x500 with 1 Axes>"
      ]
     },
     "metadata": {},
     "output_type": "display_data"
    }
   ],
   "source": [
    "def f_importances(weights, names, top=-1):\n",
    "    weights, names = zip(*sorted(list(zip(weights, names))))\n",
    "\n",
    "    # Show all features\n",
    "    if top == -1:\n",
    "        top = len(names)\n",
    "    plt.figure(figsize=(12, 5))\n",
    "    plt.barh(range(top), weights[::-1][0:top], align='center')\n",
    "    plt.yticks(range(top), names[::-1][0:top])\n",
    "\n",
    "f_importances(np.absolute(clf.coef_[0]), X_ready.columns, 10)"
   ]
  },
  {
   "cell_type": "code",
   "execution_count": null,
   "metadata": {},
   "outputs": [],
   "source": []
  }
 ],
 "metadata": {
  "colab": {
   "collapsed_sections": [
    "KPtcdkJ3Pc4I"
   ],
   "name": "d02_task.ipynb",
   "provenance": []
  },
  "kernelspec": {
   "display_name": "Python 3 (ipykernel)",
   "language": "python",
   "name": "python3"
  },
  "language_info": {
   "codemirror_mode": {
    "name": "ipython",
    "version": 3
   },
   "file_extension": ".py",
   "mimetype": "text/x-python",
   "name": "python",
   "nbconvert_exporter": "python",
   "pygments_lexer": "ipython3",
   "version": "3.9.13"
  }
 },
 "nbformat": 4,
 "nbformat_minor": 4
}
