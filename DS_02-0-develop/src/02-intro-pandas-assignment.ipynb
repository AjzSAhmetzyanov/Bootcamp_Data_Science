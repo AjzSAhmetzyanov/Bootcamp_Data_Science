{
 "cells": [
  {
   "cell_type": "markdown",
   "metadata": {},
   "source": [
    "# Задание"
   ]
  },
  {
   "cell_type": "code",
   "execution_count": 4,
   "metadata": {},
   "outputs": [],
   "source": [
    "import warnings\n",
    "warnings.filterwarnings('ignore')\n",
    "import pandas as pd\n",
    "data=pd.read_csv(\"../datasets/kaggle_survey_2022_responses.csv\")"
   ]
  },
  {
   "cell_type": "markdown",
   "metadata": {},
   "source": [
    "## Задание 1"
   ]
  },
  {
   "cell_type": "markdown",
   "metadata": {},
   "source": [
    "Узнай самый часто встречаемый возраст респондентов"
   ]
  },
  {
   "cell_type": "code",
   "execution_count": 85,
   "metadata": {},
   "outputs": [
    {
     "data": {
      "text/plain": [
       "'18-21'"
      ]
     },
     "execution_count": 85,
     "metadata": {},
     "output_type": "execute_result"
    }
   ],
   "source": [
    "# Код тут\n",
    "data.describe()['Q2'].iloc[2]"
   ]
  },
  {
   "cell_type": "markdown",
   "metadata": {},
   "source": [
    "## Задание 2"
   ]
  },
  {
   "cell_type": "markdown",
   "metadata": {},
   "source": [
    "Посчитай долю женщин среди русских участником опроса, которые уже не студенты. Результат округли до 2х цифры после запятой"
   ]
  },
  {
   "cell_type": "code",
   "execution_count": 118,
   "metadata": {},
   "outputs": [
    {
     "data": {
      "text/plain": [
       "0.24"
      ]
     },
     "execution_count": 118,
     "metadata": {},
     "output_type": "execute_result"
    }
   ],
   "source": [
    "# Код тут\n",
    "round(((data[(data['Q3'] == 'Woman')&(data['Q5'] == 'No')&(data['Q4'] == 'Russia')].iloc[0:].count())/(data[(data['Q4'] == 'Russia')&(data['Q5'] == 'No')].iloc[0:].count())).iloc[0],2)"
   ]
  },
  {
   "cell_type": "code",
   "execution_count": 119,
   "metadata": {},
   "outputs": [
    {
     "data": {
      "text/plain": [
       "0.12"
      ]
     },
     "execution_count": 119,
     "metadata": {},
     "output_type": "execute_result"
    }
   ],
   "source": [
    "round(((data[(data['Q3'] == 'Woman') & (data['Q5'] == 'No') & (data['Q4'] == 'Russia')].iloc[0:].count())/( data[(data['Q4'] == 'Russia')].iloc[0:].count())).iloc[0],2)"
   ]
  },
  {
   "cell_type": "markdown",
   "metadata": {},
   "source": [
    "## Задание 3"
   ]
  },
  {
   "cell_type": "markdown",
   "metadata": {},
   "source": [
    "Найди среднее время заполнения опроса в **минутах**. Результат округли до 2х знаков после запятой"
   ]
  },
  {
   "cell_type": "code",
   "execution_count": 120,
   "metadata": {},
   "outputs": [
    {
     "data": {
      "text/plain": [
       "168.17"
      ]
     },
     "execution_count": 120,
     "metadata": {},
     "output_type": "execute_result"
    }
   ],
   "source": [
    "# Код тут\n",
    "round((data[\"Duration (in seconds)\"][1:].astype(int).mean()/60),2)"
   ]
  },
  {
   "cell_type": "markdown",
   "metadata": {},
   "source": [
    "## Задание 4"
   ]
  },
  {
   "cell_type": "markdown",
   "metadata": {},
   "source": [
    "Выведи топ-3 образовательных курса, которые указали респонденты. P.S Это вопрос Q6"
   ]
  },
  {
   "cell_type": "code",
   "execution_count": 125,
   "metadata": {},
   "outputs": [
    {
     "name": "stdout",
     "output_type": "stream",
     "text": [
      "Coursera, University Courses (resulting in a university degree), Kaggle Learn Courses, "
     ]
    }
   ],
   "source": [
    "# Код тут\n",
    "for row in data.loc[:, 'Q6_1':'Q6_12'].melt()['value'].value_counts().iloc[:3].index.tolist():\n",
    "    print(row, end = \", \")"
   ]
  },
  {
   "cell_type": "markdown",
   "metadata": {},
   "source": [
    "## Задание 5"
   ]
  },
  {
   "cell_type": "markdown",
   "metadata": {},
   "source": [
    "Узнай топ-5 языков программирования, которые регулярно используют Data Scientists в своей работе"
   ]
  },
  {
   "cell_type": "code",
   "execution_count": 126,
   "metadata": {},
   "outputs": [
    {
     "name": "stdout",
     "output_type": "stream",
     "text": [
      "Python, SQL, R, Bash, Javascript, "
     ]
    }
   ],
   "source": [
    "# Код тут\n",
    "for row in data[(data['Q23'] == 'Data Scientist')].loc[:, 'Q12_1':'Q12_15'].melt().dropna().value_counts().iloc[:5].index.tolist():\n",
    "    print(row[1], end = \", \")"
   ]
  },
  {
   "cell_type": "markdown",
   "metadata": {},
   "source": [
    "## Задание 6"
   ]
  },
  {
   "cell_type": "markdown",
   "metadata": {},
   "source": [
    "Узнай средний доход 'Data Scientist' и 'Machine Learning/ MLops Engineer' \\\n",
    "Т.к в колонке Q29 у на промежуток, то возьмите среднее значение из промежкутка. Например '15,000-19,999' - 17500, '125,000-149,999' - 137500. >$1,000,000 - оставляем 1000000"
   ]
  },
  {
   "cell_type": "code",
   "execution_count": 253,
   "metadata": {},
   "outputs": [
    {
     "data": {
      "text/plain": [
       "69659.892"
      ]
     },
     "execution_count": 253,
     "metadata": {},
     "output_type": "execute_result"
    }
   ],
   "source": [
    "# Код тут\n",
    "# 23 29\n",
    "col = data[(data['Q23'] == 'Data Scientist') | (data['Q23'] == 'Machine Learning/ MLops Engineer')]['Q29'].dropna()\n",
    "employees_mapping = {\n",
    "    '25,000-29,999': 27500, '200,000-249,999': 225000, '150,000-199,999': 175000,\n",
    "    '50,000-59,999': 55000, '125,000-149,999': 137500, '5,000-7,499': 6250,\n",
    "    '10,000-14,999': 12500, '30,000-39,999' : 35000, '$0-999' : 500,\n",
    "    '4,000-4,999' : 4500, '3,000-3,999' : 3500, '80,000-89,999' : 85000, \n",
    "    '7,500-9,999' : 8250, '100,000-124,999' : 112500, '1,000-1,999' : 1500,\n",
    "    '15,000-19,999': 17500, '90,000-99,999' : 95000, '40,000-49,999' : 45000,\n",
    "    '60,000-69,999' : 65000, '>$1,000,000' : 1000000, '70,000-79,999' : 75000,\n",
    "    '2,000-2,999' : 2500, '20,000-24,999' : 22500,'300,000-499,999' : 400000,\n",
    "    '250,000-299,999' : 275000, '$500,000-999,999' : 750000\n",
    "}\n",
    "uniq = col.map(employees_mapping)\n",
    "round(sum(uniq.values)/len(uniq.values),3)"
   ]
  },
  {
   "cell_type": "markdown",
   "metadata": {},
   "source": [
    "## Задание 7 - Дополнительное задание"
   ]
  },
  {
   "cell_type": "markdown",
   "metadata": {},
   "source": [
    "Найдите какой-нибудь интересный инсайт из этих данных. Пишите свои интересные инсайты в чат проекта с хэштегом.\n",
    "#инсайт\n",
    "\n",
    "Автор самого интересного инсайта получит p2p баллы. Поверь, они тебе понадобятся"
   ]
  },
  {
   "cell_type": "code",
   "execution_count": 124,
   "metadata": {},
   "outputs": [
    {
     "data": {
      "text/plain": [
       "'Python'"
      ]
     },
     "execution_count": 124,
     "metadata": {},
     "output_type": "execute_result"
    }
   ],
   "source": [
    "# Код тут\n",
    "q12_col = ['Q12_1','Q12_2','Q12_3','Q12_4','Q12_5','Q12_6','Q12_7','Q12_8','Q12_9','Q12_10','Q12_11','Q12_12','Q12_13','Q12_14','Q12_15',]\n",
    "platforms = data[q12_col].melt(var_name='вопрос', value_vars=q12_col)\n",
    "platforms['value'].value_counts().index[0]"
   ]
  },
  {
   "cell_type": "code",
   "execution_count": null,
   "metadata": {},
   "outputs": [],
   "source": []
  }
 ],
 "metadata": {
  "kernelspec": {
   "display_name": "Python 3 (ipykernel)",
   "language": "python",
   "name": "python3"
  },
  "language_info": {
   "codemirror_mode": {
    "name": "ipython",
    "version": 3
   },
   "file_extension": ".py",
   "mimetype": "text/x-python",
   "name": "python",
   "nbconvert_exporter": "python",
   "pygments_lexer": "ipython3",
   "version": "3.9.13"
  }
 },
 "nbformat": 4,
 "nbformat_minor": 4
}
