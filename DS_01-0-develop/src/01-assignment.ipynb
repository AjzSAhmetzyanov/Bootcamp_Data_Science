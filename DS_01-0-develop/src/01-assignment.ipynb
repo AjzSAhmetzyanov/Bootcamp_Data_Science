{
 "cells": [
  {
   "cell_type": "markdown",
   "id": "fffcbb2c-4423-4f1c-bc90-e1ac7fbaa456",
   "metadata": {},
   "source": [
    "# Задания "
   ]
  },
  {
   "cell_type": "markdown",
   "id": "c2d747fe-7b74-43e0-95b3-16525e9846ac",
   "metadata": {},
   "source": [
    "## Task 1"
   ]
  },
  {
   "cell_type": "markdown",
   "id": "685b3747-2ce6-434d-8969-a91baddbf85a",
   "metadata": {},
   "source": [
    "Напиши код, который будет решать квадратное уравнение вида\n",
    "$ax^2 + bx + c = 0$. \\\n",
    "Для этого понадобится найти дискриминант. Его формула - $ D = b^2 − 4ac $"
   ]
  },
  {
   "cell_type": "markdown",
   "id": "20bf557b-21f9-46fa-b8db-76b7a96526f4",
   "metadata": {},
   "source": [
    "Для начала напиши формулу нахождения корней квадратного уравнения на языке LaTeX\n",
    "\n",
    "$ x = \\frac{-b\\pm\\sqrt{b^2-4ac}}{2a} $"
   ]
  },
  {
   "cell_type": "markdown",
   "id": "c78b058d-777d-4369-b86d-0c0fc013eba9",
   "metadata": {},
   "source": [
    "Теперь, когда ты вспомнил как находить корни, приступай к написанию функции:\n",
    "- Функция принимает на вход коэффициент a, b, c.\n",
    "- Функция должна возвращать кортеж корней уравнения. \n",
    "- Если корней у уравнения нет, то функция должна вернуть None"
   ]
  },
  {
   "cell_type": "code",
   "execution_count": 6,
   "id": "03b8b371-870b-42cc-8f53-1e8596406894",
   "metadata": {},
   "outputs": [],
   "source": [
    "def quadratic_equation(a, b, c):\n",
    "    x1 = 0\n",
    "    x2 = 0\n",
    "    if (b ** 2 - 4 * a * c) > 0 :\n",
    "        x1 = (-b + (b ** 2 - 4 * a * c)**(0.5)) / (2 * a)\n",
    "        x2 = (-b - (b ** 2 - 4 * a * c)**(0.5)) / (2 * a)\n",
    "    elif (b ** 2 - 4 * a * c) == 0 :\n",
    "        x1 = -b / (2 * a)\n",
    "    else :\n",
    "        return None\n",
    "    sol = (x1,x2)\n",
    "    return sol \n",
    "pass"
   ]
  },
  {
   "cell_type": "markdown",
   "id": "a8541146-f127-4482-b067-279d50975dac",
   "metadata": {},
   "source": [
    "## Task 2"
   ]
  },
  {
   "cell_type": "markdown",
   "id": "816c48be-0963-4bd6-bd86-c8172eb8968e",
   "metadata": {},
   "source": [
    "Функция, которая на вход принимает cписок случайных чисел, а возвращает уже отсортированный методом Пузырька по возрастанию."
   ]
  },
  {
   "cell_type": "code",
   "execution_count": 9,
   "id": "3fbaf6b3-876f-4ecf-9be6-d26181ee3a48",
   "metadata": {},
   "outputs": [],
   "source": [
    "def bubble_sort(lst): \n",
    "    for i in range(len(lst)-1):\n",
    "        for j in range(len(lst)-i-1):\n",
    "            if lst[j] > lst[j+1]:\n",
    "                lst[j], lst[j+1] = lst[j+1], lst[j]\n",
    "    return(lst)\n",
    "pass"
   ]
  },
  {
   "cell_type": "markdown",
   "id": "0026496c-03a8-4fcc-907b-dfb8f3fc0efb",
   "metadata": {},
   "source": [
    "## Task 3"
   ]
  },
  {
   "cell_type": "markdown",
   "id": "688251be-39a3-49ed-9993-a5f9b39f430d",
   "metadata": {},
   "source": [
    "Самое часто встречающееся слово в романе \"Война и Мир\" без учета:\n",
    "   * Пунктуации\n",
    "   * Слов **короче четырех** символов \n",
    "   * 'Стоп-слов', которые приведены в файле в stop_words_russian.txt"
   ]
  },
  {
   "cell_type": "code",
   "execution_count": 12,
   "id": "94501d71-ee88-4f78-808d-20e79a5f3707",
   "metadata": {},
   "outputs": [
    {
     "name": "stdout",
     "output_type": "stream",
     "text": [
      "('князь', 812)\n"
     ]
    }
   ],
   "source": [
    "# Код тут\n",
    "import collections\n",
    "import string \n",
    "spec_chars = string.punctuation + '„“–'\n",
    "with open('../datasets/war_and_peace.txt', \"r\", encoding='utf-8') as file:\n",
    "    text = file.read().split(' ')\n",
    "with open('../datasets/stop_words_russian.txt', \"r\", encoding='utf-8') as stw:\n",
    "    stop_word = stw.read().split('\\n')\n",
    "new_l = []\n",
    "text = [word for word in text if word not in spec_chars]\n",
    "text = list(filter(lambda x: len(x)>4,text))\n",
    "\n",
    "new_list = []\n",
    "for word in text:\n",
    "    if word not in stop_word:\n",
    "        new_list.append(word)\n",
    "        \n",
    "letter_cnt = collections.Counter(new_list)\n",
    "words = letter_cnt.most_common()\n",
    "longest_word = ''\n",
    "for word in words:\n",
    "    if len(word) > len(longest_word):\n",
    "        longest_word = word\n",
    "print(longest_word)\n"
   ]
  },
  {
   "cell_type": "markdown",
   "id": "d4b6f922-7a22-4b38-8529-c92994edd38c",
   "metadata": {},
   "source": [
    "## Task 4"
   ]
  },
  {
   "cell_type": "markdown",
   "id": "c2cef602-ab87-47f8-ab2c-e323442b62f7",
   "metadata": {},
   "source": [
    "Функция для расчета числа Фибоначчи с использованием рекурсивной функции."
   ]
  },
  {
   "cell_type": "code",
   "execution_count": 14,
   "id": "ec1c1860-774d-4583-a44b-bdc30492eead",
   "metadata": {},
   "outputs": [],
   "source": [
    "def fib(n):\n",
    "    # Код тут \n",
    "    if n == 0:\n",
    "        return 0\n",
    "    elif n ==1:\n",
    "        return 1\n",
    "    else:\n",
    "        return fib (n-1) + fib (n-2)\n",
    "pass"
   ]
  },
  {
   "cell_type": "markdown",
   "id": "1acc3069-4b1a-4a5c-98e4-055731203d2d",
   "metadata": {},
   "source": [
    "## Task 5"
   ]
  },
  {
   "cell_type": "markdown",
   "id": "944e804e-fb40-4ea2-b931-38b595d3c262",
   "metadata": {},
   "source": [
    "Функция перевода валюты в рубли."
   ]
  },
  {
   "cell_type": "code",
   "execution_count": 18,
   "id": "570cfb71-5cf0-41fc-aae7-cf2b2812eaca",
   "metadata": {},
   "outputs": [],
   "source": [
    "import requests\n",
    "import json\n",
    "def convert2RU(currency, value):\n",
    "    # Код тут\n",
    "    return (requests.get('https://www.cbr-xml-daily.ru/daily_json.js').json()['Valute'][currency]['Value']*value) \n",
    "pass"
   ]
  },
  {
   "cell_type": "markdown",
   "id": "fe1396fa-7109-48ad-a255-4d4f622c18a4",
   "metadata": {},
   "source": [
    "## *Task 6. Дополнительное задание"
   ]
  },
  {
   "cell_type": "markdown",
   "id": "71315701-39bd-4759-afd9-7bf20486b4f7",
   "metadata": {},
   "source": [
    "Написание проверки на пaлиндром."
   ]
  },
  {
   "cell_type": "markdown",
   "id": "715fd45b-eb76-4eb5-bbd8-a257035fe892",
   "metadata": {},
   "source": [
    "1. На вход функции _isPalindrome_ подается **число** (int). \\\n",
    "Функция возвращает **True**, если число является палидромом и **False** в противном случае. "
   ]
  },
  {
   "cell_type": "code",
   "execution_count": 21,
   "id": "9f48d9c7-c413-47fb-b692-ce5ad8ed9ec1",
   "metadata": {},
   "outputs": [],
   "source": [
    "def isPalindrome(x: int) -> bool:\n",
    "    for i in range(0, len(str(x))//2):  \n",
    "        if str(x)[i] != str(x)[len(str(x))-i-1]: \n",
    "            return False\n",
    "    return True\n",
    "pass"
   ]
  },
  {
   "cell_type": "markdown",
   "id": "e86f6f7c-c3b0-4b92-bb3d-651dcc7d4706",
   "metadata": {},
   "source": [
    "2. Реализация функции без использования перевода числа в строку."
   ]
  },
  {
   "cell_type": "code",
   "execution_count": 26,
   "id": "35cf92fa-04c6-489b-9523-99d78dce4ba1",
   "metadata": {},
   "outputs": [],
   "source": [
    "def isPalindrome_v2(x: int) -> bool:\n",
    "    # Код тут\n",
    "    if x < 0 or (x % 10 == 0 and x != 0):\n",
    "        return False\n",
    "    head, tail = x, 0\n",
    "    while head > tail:\n",
    "        head, tail = head // 10, tail * 10 + head % 10\n",
    "    # When the length is an odd number, we can get rid of the middle digit by tail // 10\n",
    "    return head == tail or head == tail // 10\n",
    "pass"
   ]
  }
 ],
 "metadata": {
  "kernelspec": {
   "display_name": "Python 3 (ipykernel)",
   "language": "python",
   "name": "python3"
  },
  "language_info": {
   "codemirror_mode": {
    "name": "ipython",
    "version": 3
   },
   "file_extension": ".py",
   "mimetype": "text/x-python",
   "name": "python",
   "nbconvert_exporter": "python",
   "pygments_lexer": "ipython3",
   "version": "3.9.13"
  }
 },
 "nbformat": 4,
 "nbformat_minor": 5
}
